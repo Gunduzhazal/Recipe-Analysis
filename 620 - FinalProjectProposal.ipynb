{
 "cells": [
  {
   "cell_type": "markdown",
   "id": "45d20f75",
   "metadata": {},
   "source": [
    "# Data 620 - Final Project Proposal"
   ]
  },
  {
   "cell_type": "markdown",
   "id": "2a069c30",
   "metadata": {},
   "source": [
    "For their 2011 paper “The flavor web and food pairing principles,” four scientists analyzed 56,498 recipes downloaded from three websites—allrecipes.com, epicurious.com, and menupan.com. To support their findings, the authors published two datasets. One names the cuisine and ingredients for each recipe. The other dataset counts how often any two ingredients appear in the same recipe.\n",
    "\n",
    "The original research article, Flavor network and the principles of food pairing, can be found here: https://www.nature.com/articles/srep00196\n",
    "\n",
    "Data downloads consist of the following two files:\n",
    "\n",
    "srep00196-s2.csv: Counts how many times any two ingredients appear together in any recipe.\n",
    "\n",
    "srep00196-s3.csv: One record per recipe with the ingredients listed in columns."
   ]
  },
  {
   "cell_type": "markdown",
   "id": "3b30f4b9",
   "metadata": {},
   "source": [
    "### Structure of the srep00196-s2 dataset:"
   ]
  },
  {
   "cell_type": "markdown",
   "id": "ae28028b",
   "metadata": {},
   "source": [
    "Each of the paired ingredients is listed in the first two columns, and the third column lists the appearance count of all recipes in all cuisines. We may or may not use this dataset as we may prefer to create our own counts grouped by cuisine from the other file. Kitchens are not available for every pairing."
   ]
  },
  {
   "cell_type": "markdown",
   "id": "03ae5db3",
   "metadata": {},
   "source": [
    "### Structure of the srep00196-s3 dataset:"
   ]
  },
  {
   "cell_type": "markdown",
   "id": "823b8567",
   "metadata": {},
   "source": [
    "The type of cuisine is listed in the first column, and the remaining columns contain one ingredient per column.\n",
    "Cuisine categories include:\n",
    "    \n",
    "African,\n",
    "EastAsian,\n",
    "EasternEuropean,\n",
    "LatinAmerican,\n",
    "MiddleEastern,\n",
    "NorthAmerican,\n",
    "NorthernEuropean,\n",
    "SouthAsian,\n",
    "SoutheastAsian,\n",
    "SouthernEuropean,\n",
    "WesternEuropean."
   ]
  }
 ],
 "metadata": {
  "kernelspec": {
   "display_name": "Python 3",
   "language": "python",
   "name": "python3"
  },
  "language_info": {
   "codemirror_mode": {
    "name": "ipython",
    "version": 3
   },
   "file_extension": ".py",
   "mimetype": "text/x-python",
   "name": "python",
   "nbconvert_exporter": "python",
   "pygments_lexer": "ipython3",
   "version": "3.8.8"
  }
 },
 "nbformat": 4,
 "nbformat_minor": 5
}
